{
 "cells": [
  {
   "cell_type": "code",
   "execution_count": 2,
   "id": "8e9227ad",
   "metadata": {},
   "outputs": [],
   "source": [
    "# Elizabeth D'Alessio 3126429\n",
    "\n",
    "###### I'm taking this course because I thought learning a new programming language would be interesting. I taught myself HTML and CSS when I was a kid, then worked as a Junior Web Designer briefly in 2009. I haven't done any coding since.\n"
   ]
  },
  {
   "cell_type": "code",
   "execution_count": null,
   "id": "3043168d",
   "metadata": {},
   "outputs": [],
   "source": []
  }
 ],
 "metadata": {
  "kernelspec": {
   "display_name": "Python 3 (ipykernel)",
   "language": "python",
   "name": "python3"
  },
  "language_info": {
   "codemirror_mode": {
    "name": "ipython",
    "version": 3
   },
   "file_extension": ".py",
   "mimetype": "text/x-python",
   "name": "python",
   "nbconvert_exporter": "python",
   "pygments_lexer": "ipython3",
   "version": "3.9.5"
  }
 },
 "nbformat": 4,
 "nbformat_minor": 5
}
